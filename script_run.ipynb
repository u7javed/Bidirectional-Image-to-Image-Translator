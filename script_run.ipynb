{
 "metadata": {
  "language_info": {
   "codemirror_mode": {
    "name": "ipython",
    "version": 3
   },
   "file_extension": ".py",
   "mimetype": "text/x-python",
   "name": "python",
   "nbconvert_exporter": "python",
   "pygments_lexer": "ipython3",
   "version": "3.7.6-final"
  },
  "orig_nbformat": 2,
  "kernelspec": {
   "name": "python_defaultSpec_1599518074898",
   "display_name": "Python 3.7.6 64-bit ('base': conda)"
  }
 },
 "nbformat": 4,
 "nbformat_minor": 2,
 "cells": [
  {
   "cell_type": "code",
   "execution_count": 1,
   "metadata": {},
   "outputs": [],
   "source": [
    "import torch"
   ]
  },
  {
   "cell_type": "code",
   "execution_count": null,
   "metadata": {},
   "outputs": [],
   "source": [
    "train_dir_seg = 'data/training/real_images'\n",
    "train_dir_real = 'data'\n",
    "valid_dir_seg = 'data'\n",
    "valid_dir_real = 'data'\n",
    "width = 256\n",
    "height= 256\n",
    "channels = 3\n",
    "sample_size = 2000\n",
    "saved_image_directory = 'data/saved_images'\n",
    "saved_model_directory = 'saved_models'\n",
    "epochs = 200\n",
    "batch_size = 2\n",
    "device = 'cuda' if torch.cuda.is_available() else 'cpu'\n",
    "lr = 0.0002\n",
    "b1 = 0.5\n",
    "b2 = 0.999\n",
    "lambda_cycle = 10.0\n",
    "lambda_identity = 5.0\n",
    "\n",
    "!python train.py --train_dir_seg=$train_dir_seg --train_dir_real=$train_dir_real --valid_dir_seg=$valid_dir_seg --valid_dir_real=$valid_dir_real --width=$width --height=$height --channels=$channels --sample_size=$sample_size --saved_image_directory=$saved_image_directory --saved_model_directory=$saved_model_directory --epochs=$epochs --batch_size=$batch_size --device=$device --lr=$lr --b1=$b1 --b2=$b2 --lambda_cycle=$lambda_cycle --lambda_identity=$lambda_identity"
   ]
  }
 ]
}